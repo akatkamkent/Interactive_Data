{
 "cells": [
  {
   "cell_type": "code",
   "execution_count": 1,
   "id": "318f2493",
   "metadata": {},
   "outputs": [],
   "source": [
    "#importing pandas\n",
    "import pandas as pd"
   ]
  },
  {
   "cell_type": "code",
   "execution_count": 2,
   "id": "3344cbba",
   "metadata": {},
   "outputs": [],
   "source": [
    "# Create a DataFrame with three columns and three rows\n",
    "data={'S no':[1,2,3],\n",
    "      'Name':['Jason','Alan','Agasthya'],\n",
    "      'Last Name':['Boone','Harper','katkam']}"
   ]
  },
  {
   "cell_type": "code",
   "execution_count": 3,
   "id": "0bf0ae39",
   "metadata": {},
   "outputs": [],
   "source": [
    "#data to DataFrame\n",
    "df=pd.DataFrame(data)"
   ]
  },
  {
   "cell_type": "code",
   "execution_count": 4,
   "id": "428b7ad2",
   "metadata": {},
   "outputs": [
    {
     "data": {
      "text/html": [
       "<div>\n",
       "<style scoped>\n",
       "    .dataframe tbody tr th:only-of-type {\n",
       "        vertical-align: middle;\n",
       "    }\n",
       "\n",
       "    .dataframe tbody tr th {\n",
       "        vertical-align: top;\n",
       "    }\n",
       "\n",
       "    .dataframe thead th {\n",
       "        text-align: right;\n",
       "    }\n",
       "</style>\n",
       "<table border=\"1\" class=\"dataframe\">\n",
       "  <thead>\n",
       "    <tr style=\"text-align: right;\">\n",
       "      <th></th>\n",
       "      <th>S no</th>\n",
       "      <th>Name</th>\n",
       "      <th>Last Name</th>\n",
       "    </tr>\n",
       "  </thead>\n",
       "  <tbody>\n",
       "    <tr>\n",
       "      <th>0</th>\n",
       "      <td>1</td>\n",
       "      <td>Jason</td>\n",
       "      <td>Boone</td>\n",
       "    </tr>\n",
       "    <tr>\n",
       "      <th>1</th>\n",
       "      <td>2</td>\n",
       "      <td>Alan</td>\n",
       "      <td>Harper</td>\n",
       "    </tr>\n",
       "    <tr>\n",
       "      <th>2</th>\n",
       "      <td>3</td>\n",
       "      <td>Agasthya</td>\n",
       "      <td>katkam</td>\n",
       "    </tr>\n",
       "  </tbody>\n",
       "</table>\n",
       "</div>"
      ],
      "text/plain": [
       "   S no      Name Last Name\n",
       "0     1     Jason     Boone\n",
       "1     2      Alan    Harper\n",
       "2     3  Agasthya    katkam"
      ]
     },
     "execution_count": 4,
     "metadata": {},
     "output_type": "execute_result"
    }
   ],
   "source": [
    "# head of the DataFrame\n",
    "df.head()"
   ]
  },
  {
   "cell_type": "code",
   "execution_count": 5,
   "id": "e11e3f1d",
   "metadata": {},
   "outputs": [
    {
     "data": {
      "text/plain": [
       "RangeIndex(start=0, stop=3, step=1)"
      ]
     },
     "execution_count": 5,
     "metadata": {},
     "output_type": "execute_result"
    }
   ],
   "source": [
    "# Index of the DataFrame\n",
    "df.index"
   ]
  },
  {
   "cell_type": "code",
   "execution_count": 6,
   "id": "c397dd82",
   "metadata": {},
   "outputs": [
    {
     "data": {
      "text/plain": [
       "0    1\n",
       "1    2\n",
       "2    3\n",
       "Name: S no, dtype: int64"
      ]
     },
     "execution_count": 6,
     "metadata": {},
     "output_type": "execute_result"
    }
   ],
   "source": [
    "# The first column of the DataFrame\n",
    "df['S no']"
   ]
  },
  {
   "cell_type": "code",
   "execution_count": 7,
   "id": "f4f3eb65",
   "metadata": {},
   "outputs": [
    {
     "data": {
      "text/plain": [
       "S no             1\n",
       "Name         Jason\n",
       "Last Name    Boone\n",
       "Name: 0, dtype: object"
      ]
     },
     "execution_count": 7,
     "metadata": {},
     "output_type": "execute_result"
    }
   ],
   "source": [
    "# The first row of the DataFrame\n",
    "df.loc[0]"
   ]
  },
  {
   "cell_type": "code",
   "execution_count": 8,
   "id": "1a39d315",
   "metadata": {},
   "outputs": [],
   "source": [
    "# Create a DataFrame with three columns and three rows\n",
    "data=[[1,'Jason','Boone'],\n",
    "      [2,'Alan','Harper'],\n",
    "      [3,'Agasthya','katkam']]"
   ]
  },
  {
   "cell_type": "code",
   "execution_count": 9,
   "id": "a7c43f4e",
   "metadata": {},
   "outputs": [],
   "source": [
    "#data to DataFrame\n",
    "df=pd.DataFrame(data, columns=['S no','First Name','Last Name'])"
   ]
  },
  {
   "cell_type": "code",
   "execution_count": 10,
   "id": "c688fb46",
   "metadata": {},
   "outputs": [
    {
     "data": {
      "text/html": [
       "<div>\n",
       "<style scoped>\n",
       "    .dataframe tbody tr th:only-of-type {\n",
       "        vertical-align: middle;\n",
       "    }\n",
       "\n",
       "    .dataframe tbody tr th {\n",
       "        vertical-align: top;\n",
       "    }\n",
       "\n",
       "    .dataframe thead th {\n",
       "        text-align: right;\n",
       "    }\n",
       "</style>\n",
       "<table border=\"1\" class=\"dataframe\">\n",
       "  <thead>\n",
       "    <tr style=\"text-align: right;\">\n",
       "      <th></th>\n",
       "      <th>S no</th>\n",
       "      <th>First Name</th>\n",
       "      <th>Last Name</th>\n",
       "    </tr>\n",
       "  </thead>\n",
       "  <tbody>\n",
       "    <tr>\n",
       "      <th>0</th>\n",
       "      <td>1</td>\n",
       "      <td>Jason</td>\n",
       "      <td>Boone</td>\n",
       "    </tr>\n",
       "    <tr>\n",
       "      <th>1</th>\n",
       "      <td>2</td>\n",
       "      <td>Alan</td>\n",
       "      <td>Harper</td>\n",
       "    </tr>\n",
       "    <tr>\n",
       "      <th>2</th>\n",
       "      <td>3</td>\n",
       "      <td>Agasthya</td>\n",
       "      <td>katkam</td>\n",
       "    </tr>\n",
       "  </tbody>\n",
       "</table>\n",
       "</div>"
      ],
      "text/plain": [
       "   S no First Name Last Name\n",
       "0     1      Jason     Boone\n",
       "1     2       Alan    Harper\n",
       "2     3   Agasthya    katkam"
      ]
     },
     "execution_count": 10,
     "metadata": {},
     "output_type": "execute_result"
    }
   ],
   "source": [
    "df.head()"
   ]
  },
  {
   "cell_type": "code",
   "execution_count": 11,
   "id": "36f9b2b6",
   "metadata": {},
   "outputs": [],
   "source": [
    "# Write the DataFrame to a new CSV file\n",
    "df.to_csv('finalgrades.csv', index=False)"
   ]
  },
  {
   "cell_type": "markdown",
   "id": "f3bd7dad",
   "metadata": {},
   "source": [
    "## Question: \n",
    "What does the \"write/render/evaluate\" loop provide for creators of interactive data visualizations?\n",
    "## Answer:\n",
    "**Speed and Efficiency**: By eliminating the laborious process of manual mapping, this loop enables producers to map and visualize data rapidly. Large datasets can now be handled with relative speed; tasks that would have required a long time to do by hand can now be completed nearly instantly.<br>\n",
    "**Quick Experimentation**: Because the loop is iterative, designers may quickly test out various mapping rules and visual aids. They can make changes to their code and see the effects right away, which makes the design process more dynamic.<br>\n",
    "**Design Refinement**: Through ongoing assessment of the visualizations' output, designers can make necessary adjustments to their designs in response to real-time input. The effectiveness and beauty of the visualizations can only be enhanced through this iterative process.\n",
    "## Question: \n",
    "Why are dynamic, interactive data visualizations useful when communicating data?\n",
    "## Answer:\n",
    "Because they allow users to interact and examine the information on their own terms, dynamic, interactive data visualizations are beneficial for conveying data and promote greater understanding and engagement. Interactive visualizations make complex datasets more accessible without overwhelming the user since they allow for many views and the opportunity to drill down into specifics. This is in contrast to static visualizations. In addition to improving storytelling by letting users follow the tale at their own speed, the instantaneous feedback from user interactions helps identify links and trends within the data. Because they are clear, engaging, and exploratory, interactive visualizations are a great tool for data communication.\n",
    "## Question: \n",
    "Do you agree with Murray's claim that open-source tools that avoid proprietary software are best for publishing data visualization? In a few sentences, explain why you do or do not agree.\n",
    "## Answer:\n",
    "I concur with Murray that the best tools for presenting data visualizations are open-source ones that stay away from commercial software. Because they don't require special software installations, open-source tools increase accessibility by enabling a larger audience to view and engage with visualizations on a variety of devices and operating systems. The visualizations' impact and reach are increased by their inclusion. Using open-source technologies also promotes collaboration by allowing developers to add to and enhance the tools, keeping them current and useful in a digital ecosystem that is changing quickly.\n",
    "\n"
   ]
  },
  {
   "cell_type": "code",
   "execution_count": null,
   "id": "48e09eb8",
   "metadata": {},
   "outputs": [],
   "source": []
  }
 ],
 "metadata": {
  "kernelspec": {
   "display_name": "Python 3 (ipykernel)",
   "language": "python",
   "name": "python3"
  },
  "language_info": {
   "codemirror_mode": {
    "name": "ipython",
    "version": 3
   },
   "file_extension": ".py",
   "mimetype": "text/x-python",
   "name": "python",
   "nbconvert_exporter": "python",
   "pygments_lexer": "ipython3",
   "version": "3.10.13"
  }
 },
 "nbformat": 4,
 "nbformat_minor": 5
}
